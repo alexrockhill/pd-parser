{
  "cells": [
    {
      "cell_type": "code",
      "execution_count": null,
      "metadata": {
        "collapsed": false
      },
      "outputs": [],
      "source": [
        "%matplotlib inline"
      ]
    },
    {
      "cell_type": "markdown",
      "metadata": {},
      "source": [
        "\n==========================\n01. Find Photodiode Events\n==========================\nIn this example, we use pd-parser to find photodiode events and\nalign them to behavior. Then, save the data to BIDS format.\n"
      ]
    },
    {
      "cell_type": "code",
      "execution_count": null,
      "metadata": {
        "collapsed": false
      },
      "outputs": [],
      "source": [
        "# Authors: Alex Rockhill <aprockhill@mailbox.org>\n#\n# License: BSD (3-clause)"
      ]
    },
    {
      "cell_type": "markdown",
      "metadata": {},
      "source": [
        "Import data and use it to make a raw object:\n\nWe'll make an mne.io.Raw object so that we can save out some random\ndata with a photodiode event channel in it in fif format (a standard\nelectrophysiology format)\n\n"
      ]
    },
    {
      "cell_type": "code",
      "execution_count": null,
      "metadata": {
        "collapsed": false
      },
      "outputs": [],
      "source": [
        "import os.path as op\nimport numpy as np\n\nimport mne\nfrom mne.utils import _TempDir\n\nimport pd_parser\n\nbasepath = op.join(op.dirname(pd_parser.__file__), 'tests', 'data')\nout_dir = _TempDir()\n\nfname = op.join(out_dir, 'pd_data-raw.fif')\nbehf = op.join(basepath, 'pd_beh.tsv')\n\nraw_tmp = mne.io.read_raw_fif(op.join(basepath, 'pd_data-raw.fif'),\n                              preload=True)\ninfo = mne.create_info(['ch1', 'ch2', 'ch3'], raw_tmp.info['sfreq'],\n                       ['seeg'] * 3)\nraw_tmp2 = mne.io.RawArray(np.random.random((3, raw_tmp.times.size)) * 1e-6,\n                           info)\nraw_tmp2.info['lowpass'] = raw_tmp.info['lowpass']\nraw_tmp.add_channels([raw_tmp2])\nraw_tmp.info['dig'] = None\nraw_tmp.save(fname)"
      ]
    },
    {
      "cell_type": "markdown",
      "metadata": {},
      "source": [
        "Use the interactive graphical user interface (GUI) to find parameters:\n\nOn the webpage, this is example is not interactive, but if you copy this\ncode into a python console, you can see how to interact with the photo-\ndiode data to pick reasonable parameters by following the instructions.\n\n"
      ]
    },
    {
      "cell_type": "code",
      "execution_count": null,
      "metadata": {
        "collapsed": false
      },
      "outputs": [],
      "source": [
        "pd_parser.find_pd_params(fname, pd_ch_names=['pd'])"
      ]
    },
    {
      "cell_type": "markdown",
      "metadata": {},
      "source": [
        "Find the photodiode events relative to the behavioral timing of interest:\n\nThis function will use the default parameters or the parameters you\nfound from `pd_parser.find_pd_parameters` to find and align the\nphotodiode events, excluding events that were off because the commuter\nhung up on computation for instance. That data is save in the same folder\nas the raw file which can be used directly or accessed via\n`pd_parser.pd_parser.pd_parser_save_to_bids`.\n\n"
      ]
    },
    {
      "cell_type": "code",
      "execution_count": null,
      "metadata": {
        "collapsed": false
      },
      "outputs": [],
      "source": [
        "pd_parser.parse_pd(fname, behf=behf, pd_ch_names=['pd'],\n                   alignment_prop=0.05)  # reduce alignment_prop -> faster"
      ]
    },
    {
      "cell_type": "markdown",
      "metadata": {},
      "source": [
        "Add events relative to the photodiode events:\n\nThe photodiode is usually sychronized to one event (usually the fixation\nso that if the deflections caused by the photodiode are large enough\nto influence other channels through amplifier interactions it doesn't\ncause issues with the analysis) so often the events of interest are\nrelative to the photodiode event. In the task a timer can be started at the\nphotodiode event and pulled for time at each of the following events.\nThese events are then passed in tsv file to be added to the events.\nNote: if more than one photodiode event is used, the parser can be\nused for each event separately using the keyword `add_event=True`.\n\n"
      ]
    },
    {
      "cell_type": "code",
      "execution_count": null,
      "metadata": {
        "collapsed": false
      },
      "outputs": [],
      "source": [
        "pd_parser.add_pd_relative_events(\n    fname, behf,\n    relative_event_cols=['fix_duration', 'go_time', 'response_time'],\n    relative_event_names=['ISI Onset', 'Go Cue', 'Response'])"
      ]
    },
    {
      "cell_type": "markdown",
      "metadata": {},
      "source": [
        "Save data to BIDS format:\n\nThis saves our data to BIDS format so that it's ready to be analyzed in a\nreproducible way will all the necessary files. See\nhttps://bids.neuroimaging.io/ and https://mne.tools/mne-bids/ for more\ninformation about BIDS.\n\n"
      ]
    },
    {
      "cell_type": "code",
      "execution_count": null,
      "metadata": {
        "collapsed": false
      },
      "outputs": [],
      "source": [
        "pd_parser.pd_parser_save_to_bids(op.join(out_dir, 'bids_dir'), fname,\n                                 sub='1', task='mytask')"
      ]
    }
  ],
  "metadata": {
    "kernelspec": {
      "display_name": "Python 3",
      "language": "python",
      "name": "python3"
    },
    "language_info": {
      "codemirror_mode": {
        "name": "ipython",
        "version": 3
      },
      "file_extension": ".py",
      "mimetype": "text/x-python",
      "name": "python",
      "nbconvert_exporter": "python",
      "pygments_lexer": "ipython3",
      "version": "3.7.6"
    }
  },
  "nbformat": 4,
  "nbformat_minor": 0
}