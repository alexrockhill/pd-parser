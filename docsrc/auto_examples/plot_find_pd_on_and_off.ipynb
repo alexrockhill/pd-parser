{
  "cells": [
    {
      "cell_type": "code",
      "execution_count": null,
      "metadata": {
        "collapsed": false
      },
      "outputs": [],
      "source": [
        "%matplotlib inline"
      ]
    },
    {
      "cell_type": "markdown",
      "metadata": {},
      "source": [
        "\n=====================================\n02. Find Photodiode On and Off Events\n=====================================\nIn this example, we use ``pd-parser`` to find photodiode events and\nalign both the onset of the deflection and the cessation to\nto behavior.\n"
      ]
    },
    {
      "cell_type": "code",
      "execution_count": null,
      "metadata": {
        "collapsed": false
      },
      "outputs": [],
      "source": [
        "# Authors: Alex Rockhill <aprockhill@mailbox.org>\n#\n# License: BSD (3-clause)"
      ]
    },
    {
      "cell_type": "markdown",
      "metadata": {},
      "source": [
        "Simulate data and use it to make a raw object:\n\nWe'll make an `mne.io.Raw` object so that we can save out some random\ndata with a photodiode event channel in it in fif format (a commonly used\nelectrophysiology data format).\n\n"
      ]
    },
    {
      "cell_type": "code",
      "execution_count": null,
      "metadata": {
        "collapsed": false
      },
      "outputs": [],
      "source": [
        "import os.path as op\nimport numpy as np\n\nimport mne\nfrom mne.utils import _TempDir\n\nimport pd_parser\nfrom pd_parser.parse_pd import _to_tsv, _load_pd_data\n\nimport matplotlib.pyplot as plt\nimport matplotlib.cm as cm\n\nout_dir = _TempDir()\n\n# simulate photodiode data\nnp.random.seed(29)\nn_events = 300\n# let's make our photodiode events on random uniform from 0.5 to 1 second\nn_secs_on = np.random.random(n_events) * 0.5 + 0.5\nprop_corrupted = 0.01\nraw, beh_df, events, corrupted_indices = \\\n    pd_parser.simulate_pd_data(n_events=n_events, n_secs_on=n_secs_on,\n                               prop_corrupted=prop_corrupted)\n\n# make fake electrophysiology data\ninfo = mne.create_info(['ch1', 'ch2', 'ch3'], raw.info['sfreq'],\n                       ['seeg'] * 3)\nraw2 = mne.io.RawArray(np.random.random((3, raw.times.size)) * 1e-6, info)\nraw2.info['lowpass'] = raw.info['lowpass']  # these must match to combine\nraw.add_channels([raw2])\n# bids needs these data fields\nraw.info['dig'] = None\nraw.info['line_freq'] = 60\n\n# save to disk as required by ``pd-parser``\nfname = op.join(out_dir, 'sub-1_task-mytask_raw.fif')\nraw.save(fname)\n# add some offsets to the behavior so it's a bit more realistic\noffsets = np.random.randn(n_events) * 0.01\nbeh_df['time'] = np.array(beh_df['time']) + offsets\nbehf = op.join(out_dir, 'sub-1_task-mytask_beh.tsv')\n_to_tsv(behf, beh_df)"
      ]
    },
    {
      "cell_type": "markdown",
      "metadata": {},
      "source": [
        "Find the photodiode events relative to the behavioral timing of interest:\n\nThis function will use the default parameters to find and align the\nphotodiode events, excluding events that were off.\nOne percent of the 300 events (3) were corrupted as shown in the plots and\nsome were too far off from large offsets that we're going to exclude them.\n\n"
      ]
    },
    {
      "cell_type": "code",
      "execution_count": null,
      "metadata": {
        "collapsed": false
      },
      "outputs": [],
      "source": [
        "pd_parser.parse_pd(fname, pd_event_name='Stim On', behf=behf,\n                   pd_ch_names=['pd'], beh_col='time',\n                   max_len=1.5)  # none are on longer than 1.5 seconds"
      ]
    },
    {
      "cell_type": "markdown",
      "metadata": {},
      "source": [
        "Find cessations of the photodiode deflections\n\nAnother piece of information in the photodiode channel is the cessation of\nthe events. Let's find those and add them to the events.\n\n"
      ]
    },
    {
      "cell_type": "code",
      "execution_count": null,
      "metadata": {
        "collapsed": false
      },
      "outputs": [],
      "source": [
        "pd_parser.add_pd_off_events(fname, off_event_name='Stim Off')"
      ]
    },
    {
      "cell_type": "markdown",
      "metadata": {},
      "source": [
        "Check recovered event lengths and compare to the simulation ground truth\n\nLet's load in the on and off events and plot their difference compared to\nthe ``n_secs_on`` event lengths we used to simulate.\nThe plot below show the differences between the simulated\ndeflection event lengths on the x axis scattered against the\nrecovered event lengths on the y axis. The identity line (the line with 1:1\ncorrespondance) is not shown as it would occlude the plotted data; the\nthe lengths are recovered within 1 millisecond. Note that the colors are\narbitrary and are only used to increase contrast and ease of visualization.\n\n"
      ]
    },
    {
      "cell_type": "code",
      "execution_count": null,
      "metadata": {
        "collapsed": false
      },
      "outputs": [],
      "source": [
        "annot, pd_ch_names, beh_df = _load_pd_data(fname)\nraw.set_annotations(annot)\nevents, event_id = mne.events_from_annotations(raw)\non_events = events[events[:, 2] == event_id['Stim On']]\noff_events = events[events[:, 2] == event_id['Stim Off']]\n\nrecovered = (off_events[:, 0] - on_events[:, 0]) / raw.info['sfreq']\nnot_corrupted = [s != 'n/a' for s in beh_df['pd_sample']]\nground_truth_not_corrupted = n_secs_on[not_corrupted]\n\nfig, ax = plt.subplots()\nax.scatter(ground_truth_not_corrupted, recovered,\n           s=1, color=cm.rainbow(np.linspace(0, 1, len(recovered))))\nax.set_title('Photodiode offset eventfidelity of recovery')\nax.set_xlabel('ground truth duration (s)')\nax.set_ylabel('recovered duration (s)')\n\nprint('Mean difference in the recovered from simulated length is {:.3f} '\n      'milliseconds'.format(\n          1000 * abs(ground_truth_not_corrupted - recovered).mean()))"
      ]
    }
  ],
  "metadata": {
    "kernelspec": {
      "display_name": "Python 3",
      "language": "python",
      "name": "python3"
    },
    "language_info": {
      "codemirror_mode": {
        "name": "ipython",
        "version": 3
      },
      "file_extension": ".py",
      "mimetype": "text/x-python",
      "name": "python",
      "nbconvert_exporter": "python",
      "pygments_lexer": "ipython3",
      "version": "3.7.6"
    }
  },
  "nbformat": 4,
  "nbformat_minor": 0
}