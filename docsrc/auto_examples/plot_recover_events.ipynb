{
  "cells": [
    {
      "cell_type": "code",
      "execution_count": null,
      "metadata": {
        "collapsed": false
      },
      "outputs": [],
      "source": [
        "%matplotlib inline"
      ]
    },
    {
      "cell_type": "markdown",
      "metadata": {},
      "source": [
        "\n# Manually Recover Events Not Found by the Algorithm\nIn this example, we use ``pd-parser`` to find photodiode events that\nhave corrupted pre-event baselines, photodiode plateaus or post-event\nbaselines but not corrupted onsets or offsets.\nNote that it might be a good idea not to recover these events\nas there might be noise in the data around this time.\n"
      ]
    },
    {
      "cell_type": "code",
      "execution_count": null,
      "metadata": {
        "collapsed": false
      },
      "outputs": [],
      "source": [
        "# Authors: Alex Rockhill <aprockhill@mailbox.org>\n#\n# License: BSD (3-clause)"
      ]
    },
    {
      "cell_type": "markdown",
      "metadata": {},
      "source": [
        "Simulate data and use it to make a raw object:\n\nWe'll make an `mne.io.Raw` object so that we can save out some random\ndata with a photodiode event channel in it in fif format (a commonly used\nelectrophysiology data format).\n\n"
      ]
    },
    {
      "cell_type": "code",
      "execution_count": null,
      "metadata": {
        "collapsed": false
      },
      "outputs": [],
      "source": [
        "import os.path as op\nimport numpy as np\nimport mock\n\nimport mne\nfrom mne.utils import _TempDir\n\nimport pd_parser\nfrom pd_parser.parse_pd import _load_data\n\nimport matplotlib.pyplot as plt\n\nout_dir = _TempDir()\n\n# simulate photodiode data\nnp.random.seed(29)\nn_events = 300\n# let's make our photodiode events on random uniform from 0.25 to 0.75 seconds\nn_secs_on = np.random.random(n_events) * 0.5 + 0.25\nraw, beh, events, _ = \\\n    pd_parser.simulate_pd_data(n_events=n_events, n_secs_on=n_secs_on,\n                               prop_corrupted=0.0)\nsfreq = np.round(raw.info['sfreq']).astype(int)\n\n# corrupt some events\ncorrupted_indices = [8, 144, 234]\namount = raw._data.max()\nfig, axes = plt.subplots(1, len(corrupted_indices), figsize=(8, 4))\nfig.suptitle('Corrupted Events')\naxes[0].set_ylabel('voltage')\nfor j, i in enumerate(events[corrupted_indices, 0]):\n    if j == 0:\n        raw._data[0, i - sfreq // 5: i - sfreq // 10] = -amount\n    elif j == 1:\n        raw._data[0, i + sfreq // 4: i + sfreq // 3] = -amount\n    else:\n        raw._data[0, i + 3 * sfreq // 4: i + 5 * sfreq // 6] = amount\n    axes[j].plot(np.linspace(-1, 2, 3 * sfreq),\n                 raw._data[0, i - sfreq: i + sfreq * 2])\n    axes[j].set_xlabel('time (s)')\n\n\n# make figure nicer\nfig.tight_layout()\n\n# make fake electrophysiology data\ninfo = mne.create_info(['ch1', 'ch2', 'ch3'], raw.info['sfreq'],\n                       ['seeg'] * 3)\nraw2 = mne.io.RawArray(np.random.random((3, raw.times.size)) * 1e-6, info)\nraw2.info['lowpass'] = raw.info['lowpass']  # these must match to combine\nraw.add_channels([raw2])\n# bids needs these data fields\nraw.info['dig'] = None\nraw.info['line_freq'] = 60\n\n# add some offsets to the behavior so it's a bit more realistic\noffsets = np.random.randn(n_events) * 0.001\nbeh['time'] = np.array(beh['time']) + offsets\n\n# save to disk as required by ``pd-parser``, raw needs to have a filename\nfname = op.join(out_dir, 'sub-1_task-mytask_raw.fif')\nraw.save(fname)"
      ]
    },
    {
      "cell_type": "markdown",
      "metadata": {},
      "source": [
        "Find the photodiode events relative to the behavioral timing of interest:\n\nThis function will use the default parameters to find and align the\nphotodiode events, recovering the events that we just corrupted.\n\nNote that the mock function mocks user input so when you run the example,\nyou want to delete that line and unindent the next line, and then provide\nyour own input depending on whether you want to keep the events or not.\n\n"
      ]
    },
    {
      "cell_type": "code",
      "execution_count": null,
      "metadata": {
        "collapsed": false
      },
      "outputs": [],
      "source": [
        "with mock.patch('builtins.input', return_value='y'):\n    pd_parser.parse_pd(fname, pd_event_name='Stim On', beh=beh,\n                       pd_ch_names=['pd'], beh_key='time', recover=True)"
      ]
    },
    {
      "cell_type": "markdown",
      "metadata": {},
      "source": [
        "Find cessations of the photodiode deflections\n\nSince we manually intervened for the onsets, on those same trials, we'll\nhave to manually intervene for the offsets.\n\nOn the documentation webpage, this is example is not interactive,\nbut if you download it as a jupyter notebook and run it or copy the code\ninto a console running python (ipython recommended), you can see how to\ninteract with the photodiode data to pick reasonable parameters by\nfollowing the instructions.\n\n"
      ]
    },
    {
      "cell_type": "code",
      "execution_count": null,
      "metadata": {
        "collapsed": false
      },
      "outputs": [],
      "source": [
        "pd_parser.add_pd_off_events(fname, off_event_name='Stim Off')"
      ]
    },
    {
      "cell_type": "markdown",
      "metadata": {},
      "source": [
        "Check the results:\n\nFinally, we'll check that the recovered events and the original events match.\n\n"
      ]
    },
    {
      "cell_type": "code",
      "execution_count": null,
      "metadata": {
        "collapsed": false
      },
      "outputs": [],
      "source": [
        "annot = _load_data(fname)[0]\nraw.set_annotations(annot)\nevents2, event_id = mne.events_from_annotations(raw)\non_events = events2[events2[:, 2] == event_id['Stim On']]\nprint(f'Original: {events[corrupted_indices, 0]}\\n'\n      f'Recovered: {on_events[corrupted_indices, 0]}')\n\n'''\n# uncomment when using interactively, this section doesn't work\n# for the non-interactive documentation\noff_events = events2[events2[:, 2] == event_id['Stim Off']]\noriginal_off = events[corrupted_indices, 0] + \\\n  np.round(n_secs_on[corrupted_indices] * raw.info['sfreq']).astype(int)\nprint(f'Original off: {original_off}\\n'\n      f'Recovered off: {on_events[corrupted_indices, 0]}')\n'''"
      ]
    }
  ],
  "metadata": {
    "kernelspec": {
      "display_name": "Python 3",
      "language": "python",
      "name": "python3"
    },
    "language_info": {
      "codemirror_mode": {
        "name": "ipython",
        "version": 3
      },
      "file_extension": ".py",
      "mimetype": "text/x-python",
      "name": "python",
      "nbconvert_exporter": "python",
      "pygments_lexer": "ipython3",
      "version": "3.9.1"
    }
  },
  "nbformat": 4,
  "nbformat_minor": 0
}